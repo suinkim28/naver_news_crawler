{
 "cells": [
  {
   "cell_type": "markdown",
   "metadata": {},
   "source": [
    "# What this script does\n",
    "\n",
    "This script lists and crawls news articles from [NAVER news](http://news.naver.com) service. Given the first hierarchical category (`sid1`), it shows the available sub-categories (`sid2`) and let you to choose which categories you intend to crawl. Currently, the list of `sid`s are as follows:\n",
    "\n",
    "```\n",
    "{\n",
    " 264: '청와대 ', # The blue house\n",
    " 265: '국회/정당 ', # National assembly\n",
    " 268: '북한 ', # North Korea\n",
    " 266: '행정 ', # Administration\n",
    " 267: '국방/외교 ', # Military force\n",
    " 269: '정치일반 ' # General politics\n",
    "}\n",
    "```\n",
    "\n",
    "You can also set the time duration to crawl:\n",
    "\n",
    "```\n",
    "sid2s = [269]\n",
    "date_from = '20170101'\n",
    "date_to = '20170102'\n",
    "```\n",
    "\n",
    "this setting crawls all \"general politics\" news articles from Jan 01, 2017 to Jan 02, 2017."
   ]
  },
  {
   "cell_type": "markdown",
   "metadata": {},
   "source": [
    "# Import"
   ]
  },
  {
   "cell_type": "code",
   "execution_count": 66,
   "metadata": {},
   "outputs": [],
   "source": [
    "import datetime\n",
    "import os\n",
    "import requests\n",
    "from urllib.parse import urlparse,parse_qs\n",
    "\n",
    "from bs4 import BeautifulSoup\n",
    "from tqdm import tqdm"
   ]
  },
  {
   "cell_type": "markdown",
   "metadata": {},
   "source": [
    "# Define"
   ]
  },
  {
   "cell_type": "code",
   "execution_count": 2,
   "metadata": {},
   "outputs": [],
   "source": [
    "BASE_URL = 'http://news.naver.com/main/list.nhn?mode=LS2D&mid=shm&sid1=%d&sid2=%d&date=%s&page=%d'"
   ]
  },
  {
   "cell_type": "markdown",
   "metadata": {},
   "source": [
    "# Fetch categories"
   ]
  },
  {
   "cell_type": "code",
   "execution_count": 3,
   "metadata": {},
   "outputs": [],
   "source": [
    "sid1 = 100\n",
    "FETCH_CATEGORY_URL = 'http://news.naver.com/main/main.nhn?mode=LSD&mid=shm&sid1=100'"
   ]
  },
  {
   "cell_type": "code",
   "execution_count": 38,
   "metadata": {},
   "outputs": [],
   "source": [
    "def parse_from_url(url):\n",
    "    html = requests.get(url).content\n",
    "    return BeautifulSoup(html, 'lxml')"
   ]
  },
  {
   "cell_type": "code",
   "execution_count": 40,
   "metadata": {},
   "outputs": [],
   "source": [
    "category_soup = parse_from_url(FETCH_CATEGORY_URL)\n",
    "ul_tag = category_soup.find('ul', class_='nav')\n",
    "anchors = ul_tag.find_all('a')"
   ]
  },
  {
   "cell_type": "code",
   "execution_count": 23,
   "metadata": {},
   "outputs": [],
   "source": [
    "categories = {}\n",
    "\n",
    "for anchor in anchors:\n",
    "    parsed_query = parse_qs(anchor['href'])\n",
    "    if 'sid2' not in parsed_query:\n",
    "        continue\n",
    "    categories[int(parsed_query['sid2'][0])] = anchor.text"
   ]
  },
  {
   "cell_type": "code",
   "execution_count": 24,
   "metadata": {},
   "outputs": [
    {
     "name": "stdout",
     "output_type": "stream",
     "text": [
      "{264: '청와대 ', 265: '국회/정당 ', 268: '북한 ', 266: '행정 ', 267: '국방/외교 ', 269: '정치일반 '}\n"
     ]
    }
   ],
   "source": [
    "print(categories)"
   ]
  },
  {
   "cell_type": "markdown",
   "metadata": {},
   "source": [
    "# Set variables"
   ]
  },
  {
   "cell_type": "code",
   "execution_count": 34,
   "metadata": {},
   "outputs": [],
   "source": [
    "sid2s = [269]\n",
    "date_from = '20170101'\n",
    "date_to = '20170102'"
   ]
  },
  {
   "cell_type": "markdown",
   "metadata": {},
   "source": [
    "### Generate list of dates between `from` and `to`"
   ]
  },
  {
   "cell_type": "code",
   "execution_count": 35,
   "metadata": {},
   "outputs": [],
   "source": [
    "datetime_from = datetime.datetime.strptime(date_from, \"%Y%m%d\")\n",
    "datetime_to = datetime.datetime.strptime(date_to, \"%Y%m%d\")\n",
    "datetime_generated = [datetime_from + datetime.timedelta(days=x) for x in range(0, (datetime_to - datetime_from).days)]\n",
    "date_generated = [d.strftime('%Y%m%d') for d in datetime_generated]"
   ]
  },
  {
   "cell_type": "markdown",
   "metadata": {},
   "source": [
    "# Crawl list of articles"
   ]
  },
  {
   "cell_type": "code",
   "execution_count": 46,
   "metadata": {},
   "outputs": [],
   "source": [
    "lists = {}\n",
    "articles = {}"
   ]
  },
  {
   "cell_type": "code",
   "execution_count": 51,
   "metadata": {},
   "outputs": [
    {
     "name": "stdout",
     "output_type": "stream",
     "text": [
      "list url: http://news.naver.com/main/list.nhn?mode=LS2D&mid=shm&sid1=100&sid2=269&date=20170101&page=1\n",
      "list url: http://news.naver.com/main/list.nhn?mode=LS2D&mid=shm&sid1=100&sid2=269&date=20170101&page=2\n",
      "list url: http://news.naver.com/main/list.nhn?mode=LS2D&mid=shm&sid1=100&sid2=269&date=20170101&page=3\n",
      "list url: http://news.naver.com/main/list.nhn?mode=LS2D&mid=shm&sid1=100&sid2=269&date=20170101&page=4\n",
      "list url: http://news.naver.com/main/list.nhn?mode=LS2D&mid=shm&sid1=100&sid2=269&date=20170101&page=5\n",
      "list url: http://news.naver.com/main/list.nhn?mode=LS2D&mid=shm&sid1=100&sid2=269&date=20170101&page=6\n",
      "list url: http://news.naver.com/main/list.nhn?mode=LS2D&mid=shm&sid1=100&sid2=269&date=20170101&page=7\n",
      "list url: http://news.naver.com/main/list.nhn?mode=LS2D&mid=shm&sid1=100&sid2=269&date=20170101&page=8\n",
      "list url: http://news.naver.com/main/list.nhn?mode=LS2D&mid=shm&sid1=100&sid2=269&date=20170101&page=9\n",
      "list url: http://news.naver.com/main/list.nhn?mode=LS2D&mid=shm&sid1=100&sid2=269&date=20170101&page=10\n",
      "list url: http://news.naver.com/main/list.nhn?mode=LS2D&mid=shm&sid1=100&sid2=269&date=20170101&page=11\n",
      "list url: http://news.naver.com/main/list.nhn?mode=LS2D&mid=shm&sid1=100&sid2=269&date=20170101&page=12\n",
      "list url: http://news.naver.com/main/list.nhn?mode=LS2D&mid=shm&sid1=100&sid2=269&date=20170101&page=13\n",
      "list url: http://news.naver.com/main/list.nhn?mode=LS2D&mid=shm&sid1=100&sid2=269&date=20170101&page=14\n",
      "list url: http://news.naver.com/main/list.nhn?mode=LS2D&mid=shm&sid1=100&sid2=269&date=20170101&page=15\n",
      "list url: http://news.naver.com/main/list.nhn?mode=LS2D&mid=shm&sid1=100&sid2=269&date=20170101&page=16\n",
      "list url: http://news.naver.com/main/list.nhn?mode=LS2D&mid=shm&sid1=100&sid2=269&date=20170101&page=17\n",
      "list url: http://news.naver.com/main/list.nhn?mode=LS2D&mid=shm&sid1=100&sid2=269&date=20170101&page=18\n",
      "list url: http://news.naver.com/main/list.nhn?mode=LS2D&mid=shm&sid1=100&sid2=269&date=20170101&page=19\n",
      "list url: http://news.naver.com/main/list.nhn?mode=LS2D&mid=shm&sid1=100&sid2=269&date=20170101&page=20\n",
      "list url: http://news.naver.com/main/list.nhn?mode=LS2D&mid=shm&sid1=100&sid2=269&date=20170101&page=21\n",
      "list url: http://news.naver.com/main/list.nhn?mode=LS2D&mid=shm&sid1=100&sid2=269&date=20170101&page=22\n",
      "list url: http://news.naver.com/main/list.nhn?mode=LS2D&mid=shm&sid1=100&sid2=269&date=20170101&page=23\n",
      "list url: http://news.naver.com/main/list.nhn?mode=LS2D&mid=shm&sid1=100&sid2=269&date=20170101&page=24\n",
      "list url: http://news.naver.com/main/list.nhn?mode=LS2D&mid=shm&sid1=100&sid2=269&date=20170101&page=25\n",
      "list url: http://news.naver.com/main/list.nhn?mode=LS2D&mid=shm&sid1=100&sid2=269&date=20170101&page=26\n",
      "list url: http://news.naver.com/main/list.nhn?mode=LS2D&mid=shm&sid1=100&sid2=269&date=20170101&page=27\n",
      "list url: http://news.naver.com/main/list.nhn?mode=LS2D&mid=shm&sid1=100&sid2=269&date=20170101&page=28\n",
      "list url: http://news.naver.com/main/list.nhn?mode=LS2D&mid=shm&sid1=100&sid2=269&date=20170101&page=29\n",
      "list url: http://news.naver.com/main/list.nhn?mode=LS2D&mid=shm&sid1=100&sid2=269&date=20170101&page=30\n",
      "list url: http://news.naver.com/main/list.nhn?mode=LS2D&mid=shm&sid1=100&sid2=269&date=20170101&page=31\n",
      "list url: http://news.naver.com/main/list.nhn?mode=LS2D&mid=shm&sid1=100&sid2=269&date=20170101&page=32\n",
      "list url: http://news.naver.com/main/list.nhn?mode=LS2D&mid=shm&sid1=100&sid2=269&date=20170101&page=33\n",
      "list url: http://news.naver.com/main/list.nhn?mode=LS2D&mid=shm&sid1=100&sid2=269&date=20170101&page=34\n",
      "list url: http://news.naver.com/main/list.nhn?mode=LS2D&mid=shm&sid1=100&sid2=269&date=20170101&page=35\n",
      "list url: http://news.naver.com/main/list.nhn?mode=LS2D&mid=shm&sid1=100&sid2=269&date=20170101&page=36\n",
      "list url: http://news.naver.com/main/list.nhn?mode=LS2D&mid=shm&sid1=100&sid2=269&date=20170101&page=37\n",
      "list url: http://news.naver.com/main/list.nhn?mode=LS2D&mid=shm&sid1=100&sid2=269&date=20170101&page=38\n",
      "list url: http://news.naver.com/main/list.nhn?mode=LS2D&mid=shm&sid1=100&sid2=269&date=20170101&page=39\n",
      "list url: http://news.naver.com/main/list.nhn?mode=LS2D&mid=shm&sid1=100&sid2=269&date=20170101&page=40\n",
      "list url: http://news.naver.com/main/list.nhn?mode=LS2D&mid=shm&sid1=100&sid2=269&date=20170101&page=41\n",
      "list url: http://news.naver.com/main/list.nhn?mode=LS2D&mid=shm&sid1=100&sid2=269&date=20170101&page=42\n",
      "list url: http://news.naver.com/main/list.nhn?mode=LS2D&mid=shm&sid1=100&sid2=269&date=20170101&page=43\n",
      "list url: http://news.naver.com/main/list.nhn?mode=LS2D&mid=shm&sid1=100&sid2=269&date=20170101&page=44\n",
      "list url: http://news.naver.com/main/list.nhn?mode=LS2D&mid=shm&sid1=100&sid2=269&date=20170101&page=45\n",
      "list url: http://news.naver.com/main/list.nhn?mode=LS2D&mid=shm&sid1=100&sid2=269&date=20170101&page=46\n",
      "list url: http://news.naver.com/main/list.nhn?mode=LS2D&mid=shm&sid1=100&sid2=269&date=20170101&page=47\n",
      "list url: http://news.naver.com/main/list.nhn?mode=LS2D&mid=shm&sid1=100&sid2=269&date=20170101&page=48\n",
      "list url: http://news.naver.com/main/list.nhn?mode=LS2D&mid=shm&sid1=100&sid2=269&date=20170101&page=49\n",
      "list url: http://news.naver.com/main/list.nhn?mode=LS2D&mid=shm&sid1=100&sid2=269&date=20170101&page=50\n",
      "list url: http://news.naver.com/main/list.nhn?mode=LS2D&mid=shm&sid1=100&sid2=269&date=20170101&page=51\n",
      "list url: http://news.naver.com/main/list.nhn?mode=LS2D&mid=shm&sid1=100&sid2=269&date=20170101&page=52\n",
      "list url: http://news.naver.com/main/list.nhn?mode=LS2D&mid=shm&sid1=100&sid2=269&date=20170101&page=53\n",
      "list url: http://news.naver.com/main/list.nhn?mode=LS2D&mid=shm&sid1=100&sid2=269&date=20170101&page=54\n",
      "list url: http://news.naver.com/main/list.nhn?mode=LS2D&mid=shm&sid1=100&sid2=269&date=20170101&page=55\n",
      "list url: http://news.naver.com/main/list.nhn?mode=LS2D&mid=shm&sid1=100&sid2=269&date=20170101&page=56\n"
     ]
    }
   ],
   "source": [
    "for date in date_generated: # date\n",
    "    for sid2 in sid2s: # 2nd category\n",
    "        for page in range(1, 1000):\n",
    "            list_url = BASE_URL % (sid1, sid2, date, page)\n",
    "            print(\"list url:\", list_url)\n",
    "            list_soup = parse_from_url(list_url)\n",
    "            lists[list_url] = list_soup\n",
    "            \n",
    "            current_page_number = list_soup.find('div', class_='paging').find('strong').text\n",
    "            if int(current_page_number) != page:\n",
    "                break\n",
    "            \n",
    "            headline_list = list_soup.find('ul', class_='type06_headline')\n",
    "            headlines = headline_list.find_all('dl')\n",
    "            for headline in headlines:\n",
    "                title_anchor = headline.find('a')\n",
    "                writing = headline.find('span', class_='writing')\n",
    "                dt = headline.find('span', class_='date')\n",
    "                \n",
    "                title_text = title_anchor.text.strip()\n",
    "                if len(title_text) == 0:\n",
    "                    title_text = title_anchor.find('img')['alt'].strip()\n",
    "                \n",
    "                articles[title_anchor['href']] = {\n",
    "                    'title': title_text,\n",
    "                    'writing': writing.text.strip(),\n",
    "                    'datetime': dt.text.strip()\n",
    "                }"
   ]
  },
  {
   "cell_type": "code",
   "execution_count": 53,
   "metadata": {},
   "outputs": [
    {
     "data": {
      "text/plain": [
       "542"
      ]
     },
     "execution_count": 53,
     "metadata": {},
     "output_type": "execute_result"
    }
   ],
   "source": [
    "len(articles)"
   ]
  },
  {
   "cell_type": "markdown",
   "metadata": {},
   "source": [
    "# Crawl articles"
   ]
  },
  {
   "cell_type": "code",
   "execution_count": 67,
   "metadata": {},
   "outputs": [
    {
     "name": "stderr",
     "output_type": "stream",
     "text": [
      "100%|██████████| 542/542 [00:58<00:00,  9.26it/s]\n"
     ]
    }
   ],
   "source": [
    "for article_url in tqdm(articles):\n",
    "    article_html = parse_from_url(article_url)\n",
    "    try:\n",
    "        article_text = articles[article_url]['text'] = article_html.find(\n",
    "            'div',\n",
    "            id='articleBodyContents'\n",
    "        )\n",
    "        [s.extract() for s in article_text('script')]\n",
    "        articles[article_url]['text'] = article_text.text.strip()\n",
    "    except Exception as e:\n",
    "        break"
   ]
  }
 ],
 "metadata": {
  "kernelspec": {
   "display_name": "Python 3",
   "language": "python",
   "name": "python3"
  },
  "language_info": {
   "codemirror_mode": {
    "name": "ipython",
    "version": 3
   },
   "file_extension": ".py",
   "mimetype": "text/x-python",
   "name": "python",
   "nbconvert_exporter": "python",
   "pygments_lexer": "ipython3",
   "version": "3.6.3"
  }
 },
 "nbformat": 4,
 "nbformat_minor": 2
}
